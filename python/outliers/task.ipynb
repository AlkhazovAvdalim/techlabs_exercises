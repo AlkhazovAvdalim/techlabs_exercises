{
 "cells": [
  {
   "cell_type": "code",
   "execution_count": 1,
   "metadata": {},
   "outputs": [],
   "source": [
    "import pandas as pd\n",
    "\n",
    "# You may have to change the path to the dataset\n",
    "data = pd.read_csv('./health_insurance.csv')\n",
    "\n",
    "# TODO: place your email here\n",
    "email = \"example@gmail.com\" "
   ]
  },
  {
   "cell_type": "code",
   "execution_count": 2,
   "metadata": {},
   "outputs": [],
   "source": [
    "# You may want to explore the data before you start\n",
    "# BUT: You should not change the data variable  (should be the original dataset)"
   ]
  },
  {
   "cell_type": "code",
   "execution_count": 3,
   "metadata": {},
   "outputs": [],
   "source": [
    "# TODO: Fill out this function, Filter out potential bad outliers\n",
    "def remove_bad_outliers(train_data):\n",
    "    return train_data"
   ]
  },
  {
   "cell_type": "code",
   "execution_count": null,
   "metadata": {},
   "outputs": [],
   "source": [
    "# Run this cell to evaulate your results\n",
    "import base64\n",
    "eval(compile(base64.b64decode(\"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\"), \"<string>\", \"exec\"))"
   ]
  }
 ],
 "metadata": {
  "kernelspec": {
   "display_name": "Python 3",
   "language": "python",
   "name": "python3"
  },
  "language_info": {
   "codemirror_mode": {
    "name": "ipython",
    "version": 3
   },
   "file_extension": ".py",
   "mimetype": "text/x-python",
   "name": "python",
   "nbconvert_exporter": "python",
   "pygments_lexer": "ipython3",
   "version": "3.11.5"
  }
 },
 "nbformat": 4,
 "nbformat_minor": 2
}
